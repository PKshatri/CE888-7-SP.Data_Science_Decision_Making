{
  "cells": [
    {
      "cell_type": "markdown",
      "id": "b92e8ed1",
      "metadata": {
        "id": "b92e8ed1"
      },
      "source": [
        "Assignment\n",
        "# A multimodal sensor dataset for continuous stress detection of nurses in a hospital"
      ]
    },
    {
      "cell_type": "markdown",
      "id": "VQCv2xWG9KTN",
      "metadata": {
        "id": "VQCv2xWG9KTN"
      },
      "source": [
        "## Loading required libraries"
      ]
    },
    {
      "cell_type": "code",
      "execution_count": null,
      "id": "lsUzV3-U9Ufu",
      "metadata": {
        "id": "lsUzV3-U9Ufu"
      },
      "outputs": [],
      "source": [
        "import pandas as pd\n",
        "pd.set_option('display.float_format', lambda x: '%.3f' % x)\n",
        "\n",
        "import numpy as np\n",
        "np.random.seed(1234)\n",
        "\n",
        "from datetime import timedelta, datetime\n",
        "\n",
        "from sklearn.preprocessing import MinMaxScaler\n",
        "\n",
        "from keras.preprocessing.sequence import TimeseriesGenerator\n",
        "from keras.wrappers.scikit_learn import KerasRegressor\n",
        "from sklearn.model_selection import RandomizedSearchCV\n",
        "\n",
        "from tensorflow import keras\n",
        "from keras.models import Sequential\n",
        "from keras.layers import Dense, Activation, Dropout, LSTM\n",
        "\n",
        "TRAIN_TEST_SPLIT = 0.7"
      ]
    },
    {
      "cell_type": "markdown",
      "id": "kUkPc9Kk2H7z",
      "metadata": {
        "id": "kUkPc9Kk2H7z"
      },
      "source": [
        "## 1. Loading the data for participant 5C"
      ]
    },
    {
      "cell_type": "code",
      "execution_count": null,
      "id": "xggxQg7B2O8l",
      "metadata": {
        "id": "xggxQg7B2O8l"
      },
      "outputs": [],
      "source": [
        "df = None\n",
        "chunksize = 10 ** 5\n",
        "\n",
        "with pd.read_csv(\"5C.csv\", chunksize=chunksize, index_col = None, engine = 'python') as reader:\n",
        "    for chunk in reader:\n",
        "        df = pd.concat([df, chunk])"
      ]
    },
    {
      "cell_type": "code",
      "execution_count": null,
      "id": "ZhYNMR3n5B2R",
      "metadata": {
        "id": "ZhYNMR3n5B2R"
      },
      "outputs": [],
      "source": [
        "df = df.drop(columns = 'id')"
      ]
    },
    {
      "cell_type": "markdown",
      "id": "3c0fe187",
      "metadata": {
        "id": "3c0fe187"
      },
      "source": [
        "## 2. Machine Learning Model"
      ]
    },
    {
      "cell_type": "markdown",
      "id": "e4209c91",
      "metadata": {
        "id": "e4209c91"
      },
      "source": [
        "Function to split the data into train/test and converting it into a Keras sequence\n",
        "Can be re-used to train the same model on all participants"
      ]
    },
    {
      "cell_type": "code",
      "execution_count": null,
      "id": "c00d7f2b",
      "metadata": {
        "id": "c00d7f2b"
      },
      "outputs": [],
      "source": [
        "def data_to_keras(df, scaled = True, lookback = 7):\n",
        "    data = df.copy()\n",
        "    data = data.drop(columns = 'id')\n",
        "    data['datetime'] = pd.to_datetime(data['datetime'])\n",
        "    data = data.set_index('datetime')\n",
        "\n",
        "    col_names = data.columns[: -1]\n",
        "    if scaled:\n",
        "        data[col_names] = MinMaxScaler().fit_transform(data[col_names])\n",
        "\n",
        "    size = int(TRAIN_TEST_SPLIT * len(data))\n",
        "    train = data[: size]\n",
        "    test = data[size: ]\n",
        "\n",
        "    train = TimeseriesGenerator(train.iloc[:, :-1], train.iloc[:, -1], length = lookback, batch_size = 32)\n",
        "    test = TimeseriesGenerator(test.iloc[:, :-1], test.iloc[:, -1], length = lookback, batch_size = 32)\n",
        "\n",
        "    return train, test"
      ]
    },
    {
      "cell_type": "code",
      "execution_count": null,
      "id": "26756a43",
      "metadata": {
        "id": "26756a43"
      },
      "outputs": [],
      "source": [
        "train, test = data_to_keras(df)"
      ]
    },
    {
      "cell_type": "code",
      "execution_count": null,
      "id": "cFTr22iEuCPE",
      "metadata": {
        "colab": {
          "base_uri": "https://localhost:8080/",
          "height": 400
        },
        "id": "cFTr22iEuCPE",
        "outputId": "d8d0143b-93e6-4336-e5e7-10d7c512ed98"
      },
      "outputs": [
        {
          "name": "stderr",
          "output_type": "stream",
          "text": [
            "C:\\Users\\Diya\\AppData\\Local\\Temp\\ipykernel_11616\\2361699427.py:11: DeprecationWarning: KerasRegressor is deprecated, use Sci-Keras (https://github.com/adriangb/scikeras) instead. See https://www.adriangb.com/scikeras/stable/migration.html for help migrating.\n",
            "  model = KerasRegressor(build_fn=create_model, verbose=0)\n"
          ]
        },
        {
          "name": "stdout",
          "output_type": "stream",
          "text": [
            "ERROR! Session/line number was not unique in database. History logging moved to new session 19\n"
          ]
        }
      ],
      "source": [
        "# Define function to create LSTM model with given hyperparameters\n",
        "def create_model(dropout_rate, units):\n",
        "    model = Sequential()\n",
        "    model.add(LSTM(units, input_shape=(7, 8)))\n",
        "    model.add(Dropout(dropout_rate))\n",
        "    model.add(Dense(1))\n",
        "    model.compile(loss='mse', optimizer='adam')\n",
        "    return model\n",
        "\n",
        "# Create KerasRegressor wrapper function with create_model function\n",
        "model = KerasRegressor(build_fn=create_model, verbose=0)\n",
        "\n",
        "# Define hyperparameters to search over\n",
        "param_grid = {'dropout_rate': [0.1, 0.2, 0.3], 'units': [32, 64, 128]}\n",
        "\n",
        "# Define randomized search over hyperparameters\n",
        "search = RandomizedSearchCV(estimator=model, param_distributions=param_grid, n_iter=9, cv=5)\n",
        "\n",
        "# Fit search on train generator and validate on test generator\n",
        "search.fit(train, validation_data=test, epochs=10)"
      ]
    },
    {
      "cell_type": "code",
      "execution_count": null,
      "id": "oQSYAxwMwp2L",
      "metadata": {
        "id": "oQSYAxwMwp2L"
      },
      "outputs": [],
      "source": [
        "print(search.best_params_)\n",
        "print(search.best_score_)"
      ]
    },
    {
      "cell_type": "code",
      "execution_count": null,
      "id": "326bcbd5",
      "metadata": {
        "colab": {
          "base_uri": "https://localhost:8080/"
        },
        "id": "326bcbd5",
        "outputId": "457fafb7-3fcb-4e05-d270-f0235d92542c"
      },
      "outputs": [
        {
          "name": "stdout",
          "output_type": "stream",
          "text": [
            "Model: \"sequential\"\n",
            "_________________________________________________________________\n",
            " Layer (type)                Output Shape              Param #   \n",
            "=================================================================\n",
            " lstm (LSTM)                 (None, 64)                18688     \n",
            "                                                                 \n",
            " dropout (Dropout)           (None, 64)                0         \n",
            "                                                                 \n",
            " dense (Dense)               (None, 1)                 65        \n",
            "                                                                 \n",
            "=================================================================\n",
            "Total params: 18,753\n",
            "Trainable params: 18,753\n",
            "Non-trainable params: 0\n",
            "_________________________________________________________________\n"
          ]
        }
      ],
      "source": [
        "model = Sequential()\n",
        "model.add(LSTM(64, input_shape=(7, 8)))\n",
        "model.add(Dropout(0.2))\n",
        "model.add(Dense(1, activation='relu'))\n",
        "\n",
        "model.summary()\n",
        "\n",
        "model.compile(optimizer = keras.optimizers.Adam(learning_rate=0.001),\n",
        "            loss = keras.losses.MeanSquaredError(),\n",
        "            metrics=['mse'])"
      ]
    },
    {
      "cell_type": "code",
      "execution_count": null,
      "id": "KldNBbO9zhsF",
      "metadata": {
        "id": "KldNBbO9zhsF"
      },
      "outputs": [],
      "source": [
        "from keras.callbacks import EarlyStopping\n",
        "\n",
        "early_stopping = EarlyStopping(monitor='val_loss', patience=5, verbose=1, mode='auto')\n",
        "\n",
        "# train the model with early stopping\n",
        "history = model.fit(train, epochs=20, validation_data=test, callbacks=[early_stopping])"
      ]
    },
    {
      "cell_type": "code",
      "execution_count": null,
      "id": "KnEKdeY00V15",
      "metadata": {
        "id": "KnEKdeY00V15"
      },
      "outputs": [],
      "source": [
        "# plot the training and validation loss curves\n",
        "plt.plot(history.history['loss'], label='train')\n",
        "plt.plot(history.history['val_loss'], label='test')\n",
        "plt.legend()\n",
        "plt.show()"
      ]
    }
  ],
  "metadata": {
    "accelerator": "GPU",
    "colab": {
      "provenance": []
    },
    "gpuClass": "standard",
    "kernelspec": {
      "display_name": "Python 3 (ipykernel)",
      "language": "python",
      "name": "python3"
    },
    "language_info": {
      "codemirror_mode": {
        "name": "ipython",
        "version": 3
      },
      "file_extension": ".py",
      "mimetype": "text/x-python",
      "name": "python",
      "nbconvert_exporter": "python",
      "pygments_lexer": "ipython3",
      "version": "3.9.13"
    }
  },
  "nbformat": 4,
  "nbformat_minor": 5
}