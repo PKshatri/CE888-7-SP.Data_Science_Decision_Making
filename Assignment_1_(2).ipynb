{
 "cells": [
  {
   "cell_type": "markdown",
   "id": "b92e8ed1",
   "metadata": {
    "id": "b92e8ed1"
   },
   "source": [
    "Assignment\n",
    "# A multimodal sensor dataset for continuous stress detection of nurses in a hospital"
   ]
  },
  {
   "cell_type": "markdown",
   "id": "VQCv2xWG9KTN",
   "metadata": {
    "id": "VQCv2xWG9KTN"
   },
   "source": [
    "## Loading required libraries"
   ]
  },
  {
   "cell_type": "code",
   "execution_count": 1,
   "id": "lsUzV3-U9Ufu",
   "metadata": {
    "id": "lsUzV3-U9Ufu"
   },
   "outputs": [],
   "source": [
    "import os\n",
    "import shutil\n",
    "import multiprocessing\n",
    "\n",
    "import pandas as pd\n",
    "pd.set_option('display.float_format', lambda x: '%.3f' % x)\n",
    "\n",
    "import numpy as np\n",
    "np.random.seed(1234)\n",
    "\n",
    "from datetime import timedelta, datetime\n",
    "\n",
    "import seaborn as sns\n",
    "import matplotlib.pyplot as plt\n",
    "\n",
    "from sklearn.preprocessing import MinMaxScaler\n",
    "\n",
    "from keras.preprocessing.sequence import TimeseriesGenerator\n",
    "from keras.wrappers.scikit_learn import KerasRegressor\n",
    "from sklearn.model_selection import RandomizedSearchCV\n",
    "\n",
    "from tensorflow import keras\n",
    "from keras.models import Sequential\n",
    "from keras.layers import Dense, Activation, Dropout, LSTM\n",
    "\n",
    "TRAIN_TEST_SPLIT = 0.7"
   ]
  },
  {
   "cell_type": "markdown",
   "id": "17cfe7a0",
   "metadata": {
    "id": "17cfe7a0"
   },
   "source": [
    "## 1. Pre-processing the data"
   ]
  },
  {
   "cell_type": "markdown",
   "id": "a77d62a6",
   "metadata": {
    "id": "a77d62a6"
   },
   "source": [
    "### a. Un-zipping the data files and included sub files"
   ]
  },
  {
   "cell_type": "code",
   "execution_count": null,
   "id": "85d67d25",
   "metadata": {
    "id": "85d67d25"
   },
   "outputs": [],
   "source": [
    "MAIN_PATH = ''\n",
    "cpu_count = int(multiprocessing.cpu_count() / 2)\n",
    "\n",
    "print(f'Using {cpu_count} CPUs')\n",
    "\n",
    "shutil.unpack_archive(MAIN_PATH + 'Data.zip', MAIN_PATH + 'Data')\n",
    "shutil.unpack_archive(MAIN_PATH + 'Data/Stress_dataset.zip', MAIN_PATH + 'Data/Stress_dataset')\n",
    "\n",
    "stress_data_path = MAIN_PATH + 'Data/Stress_dataset'\n",
    "\n",
    "file_list = [\n",
    "    (file, sub_file)\n",
    "    for file in os.listdir(stress_data_path) \n",
    "    for sub_file in os.listdir(os.path.join(stress_data_path, file))\n",
    "]\n",
    "\n",
    "def unzip_parallel(file, sub_file):\n",
    "    shutil.unpack_archive(\n",
    "        os.path.join(stress_data_path, file, sub_file), \n",
    "        os.path.join(stress_data_path, file, sub_file[:-4])\n",
    "    )\n",
    "\n",
    "print(\"Unpacking sub-files\")\n",
    "\n",
    "if __name__ == '__main__':\n",
    "    multiprocessing.freeze_support()\n",
    "    with multiprocessing.get_context('spawn').Pool(cpu_count) as pool:\n",
    "        pool.starmap(unzip_parallel, file_list)\n",
    "    pool.close\n",
    "\n",
    "print(\"All files unpacked successfully\")"
   ]
  },
  {
   "cell_type": "markdown",
   "id": "b0c3a9a3",
   "metadata": {
    "id": "b0c3a9a3"
   },
   "source": [
    "### b. Joining participant sensors sub files"
   ]
  },
  {
   "cell_type": "code",
   "execution_count": null,
   "id": "3349f94f",
   "metadata": {
    "id": "3349f94f"
   },
   "outputs": [],
   "source": [
    "DATA_PATH = MAIN_PATH + \"Data/Stress_dataset\"\n",
    "SAVE_PATH = MAIN_PATH + \"Merged_sensor_data\"\n",
    "if not os.path.exists(SAVE_PATH):\n",
    "    os.mkdir(SAVE_PATH)\n",
    "    \n",
    "final_columns = {\n",
    "    'ACC': ['id', 'X', 'Y', 'Z', 'datetime'],\n",
    "    'EDA': ['id', 'EDA', 'datetime'],\n",
    "    'HR': ['id', 'HR', 'datetime'],\n",
    "    'TEMP': ['id', 'TEMP', 'datetime'],\n",
    "    'BVP': ['id', 'BVP', 'datetime'],\n",
    "    'IBI': ['id', 'IBI', 'datetime'],\n",
    "}\n",
    "\n",
    "names = {\n",
    "    'ACC.csv': ['X', 'Y', 'Z'],\n",
    "    'EDA.csv': ['EDA'],\n",
    "    'HR.csv': ['HR'],\n",
    "    'TEMP.csv': ['TEMP'],\n",
    "    'BVP.csv': ['BVP'],\n",
    "    'IBI.csv': ['IBI'],\n",
    "}\n",
    "\n",
    "desired_signals = ['ACC.csv', 'EDA.csv', 'HR.csv', 'TEMP.csv', 'BVP.csv', 'IBI.csv']\n",
    "\n",
    "def process_df(df, file):\n",
    "    start_timestamp = df.iloc[0,0]\n",
    "    sample_rate = df.iloc[1,0]\n",
    "    new_df = pd.DataFrame(df.iloc[2:].values, columns=df.columns)\n",
    "    new_df['id'] =  file[-2:]\n",
    "    new_df['datetime'] = [(start_timestamp + i/sample_rate) for i in range(len(new_df))]\n",
    "    return new_df\n",
    "\n",
    "def process_ibi(df, file):\n",
    "    time = df.index\n",
    "    start_timestamp = time[0]\n",
    "    new_df = pd.DataFrame(df.iloc[1:].values, columns=df.columns)\n",
    "    new_df['id'] =  file[-2:]\n",
    "    new_df['datetime'] = [(start_timestamp + time[i]) for i in range(1, len(time))]\n",
    "    return new_df\n",
    "\n",
    "def merge_sensor_data(file):\n",
    "    print(f'Processing {file}', flush = True)\n",
    "    acc = pd.DataFrame(columns=final_columns['ACC'])\n",
    "    eda = pd.DataFrame(columns=final_columns['EDA'])\n",
    "    hr = pd.DataFrame(columns=final_columns['HR'])\n",
    "    temp = pd.DataFrame(columns=final_columns['TEMP'])\n",
    "    bvp = pd.DataFrame(columns=final_columns['BVP'])\n",
    "    ibi = pd.DataFrame(columns=final_columns['IBI'])\n",
    "    for sub_file in os.listdir(os.path.join(DATA_PATH, file)):\n",
    "        if sub_file.endswith(\".zip\"):\n",
    "            os.remove(os.path.join(DATA_PATH, file, sub_file))\n",
    "        else:\n",
    "            for signal in os.listdir(os.path.join(DATA_PATH, file, sub_file)):\n",
    "                if signal in desired_signals:\n",
    "                    df = pd.read_csv(os.path.join(DATA_PATH, file, sub_file, signal), names=names[signal], header=None)\n",
    "                    if not df.empty:\n",
    "                        if signal == 'ACC.csv':\n",
    "                            acc = pd.concat([acc, process_df(df, file)])             \n",
    "                        if signal == 'EDA.csv':\n",
    "                            eda = pd.concat([eda, process_df(df, file)])\n",
    "                        if signal == 'HR.csv':\n",
    "                            hr = pd.concat([hr, process_df(df, file)])\n",
    "                        if signal == 'TEMP.csv':\n",
    "                            temp = pd.concat([temp, process_df(df, file)])\n",
    "                        if signal == 'BVP.csv':\n",
    "                            bvp = pd.concat([bvp, process_df(df, file)])\n",
    "                        if signal == 'IBI.csv':\n",
    "                            ibi = pd.concat([ibi, process_ibi(df, file)])\n",
    "    print(f'Saving {file}', flush = True)\n",
    "    temp_save = os.path.join(SAVE_PATH, file)\n",
    "    os.mkdir(temp_save)\n",
    "    acc.to_csv(os.path.join(temp_save, 'combined_acc.csv'), index=False)\n",
    "    eda.to_csv(os.path.join(temp_save, 'combined_eda.csv'), index=False)\n",
    "    hr.to_csv(os.path.join(temp_save, 'combined_hr.csv'), index=False)\n",
    "    temp.to_csv(os.path.join(temp_save, 'combined_temp.csv'), index=False)\n",
    "    bvp.to_csv(os.path.join(temp_save, 'combined_bvp.csv'), index=False)\n",
    "    ibi.to_csv(os.path.join(temp_save, 'combined_ibi.csv'), index=False)\n",
    "\n",
    "file_list = [file for file in os.listdir(DATA_PATH)]\n",
    "\n",
    "if __name__ == '__main__':\n",
    "    multiprocessing.freeze_support()\n",
    "    with multiprocessing.get_context('spawn').Pool(cpu_count) as pool:\n",
    "        pool.map(merge_sensor_data, file_list)\n",
    "    pool.close()\n",
    "\n",
    "print(\"All sensor data files saved successfully\")"
   ]
  },
  {
   "cell_type": "markdown",
   "id": "a7573811",
   "metadata": {
    "id": "a7573811"
   },
   "source": [
    "### c. Merging the sensor data files for each participant"
   ]
  },
  {
   "cell_type": "code",
   "execution_count": null,
   "id": "650d7b1e",
   "metadata": {
    "id": "650d7b1e"
   },
   "outputs": [],
   "source": [
    "COMBINED_DATA_PATH = MAIN_PATH + \"Merged_sensor_data\"\n",
    "SAVE_PATH = MAIN_PATH + \"Final_data\"\n",
    "\n",
    "if not os.path.exists(SAVE_PATH):\n",
    "    os.mkdir(SAVE_PATH)\n",
    "\n",
    "def merge_parallel(file):\n",
    "    print(f'processing {file}', flush = True)\n",
    "    \n",
    "    df = pd.DataFrame(columns = ['X', 'Y', 'Z', 'BVP', 'EDA', 'HR', 'IBI', 'TEMP', 'id', 'datetime'])\n",
    "    acc = pd.read_csv(os.path.join(COMBINED_DATA_PATH, file, \"combined_acc.csv\"), dtype={'id': str})\n",
    "    bvp = pd.read_csv(os.path.join(COMBINED_DATA_PATH, file, \"combined_bvp.csv\"), dtype={'id': str}, usecols=lambda x: x != \"id\")\n",
    "    eda = pd.read_csv(os.path.join(COMBINED_DATA_PATH, file, \"combined_eda.csv\"), dtype={'id': str}, usecols=lambda x: x != \"id\")\n",
    "    hr = pd.read_csv(os.path.join(COMBINED_DATA_PATH, file, \"combined_hr.csv\"), dtype={'id': str}, usecols=lambda x: x != \"id\")\n",
    "    ibi = pd.read_csv(os.path.join(COMBINED_DATA_PATH, file, \"combined_ibi.csv\"), dtype={'id': str}, usecols=lambda x: x != \"id\")\n",
    "    temp = pd.read_csv(os.path.join(COMBINED_DATA_PATH, file, \"combined_temp.csv\"), dtype={'id': str}, usecols=lambda x: x != \"id\")\n",
    "\n",
    "    df = acc.merge(bvp, on='datetime', how='outer')\n",
    "    df = df.merge(eda, on='datetime', how='outer')\n",
    "    df = df.merge(hr, on='datetime', how='outer')\n",
    "    df = df.merge(ibi, on='datetime', how='outer')\n",
    "    df = df.merge(temp, on='datetime', how='outer')\n",
    "    \n",
    "    df.fillna(method='ffill', inplace=True)\n",
    "    df.fillna(method='bfill', inplace=True)\n",
    "    \n",
    "    print(f'Saving {file}', flush = True)\n",
    "    df.to_csv(os.path.join(SAVE_PATH, f\"merged_{file}.csv\"), index = None)\n",
    "\n",
    "print(\"Reading data...\")\n",
    "\n",
    "file_list = [file for file in os.listdir(COMBINED_DATA_PATH)]\n",
    "\n",
    "print(\"Processing data...\")\n",
    "\n",
    "if __name__ == '__main__':\n",
    "    multiprocessing.freeze_support()\n",
    "    with multiprocessing.get_context('spawn').Pool(cpu_count) as pool:\n",
    "        pool.map(merge_parallel, file_list)\n",
    "    pool.close()\n",
    "\n",
    "print(\"Successfully merged sensor data\")"
   ]
  },
  {
   "cell_type": "markdown",
   "id": "4f13db76",
   "metadata": {
    "id": "4f13db76"
   },
   "source": [
    "### d. Adding labels to the final dataset using the provided 'label_data_script.py'"
   ]
  },
  {
   "cell_type": "code",
   "execution_count": null,
   "id": "925e96b6",
   "metadata": {
    "id": "925e96b6"
   },
   "outputs": [],
   "source": [
    "PATH = MAIN_PATH + 'Final_data'\n",
    "SAVE_PATH = MAIN_PATH + 'Processed_data'\n",
    "\n",
    "if not os.path.exists(SAVE_PATH):\n",
    "    os.mkdir(SAVE_PATH)\n",
    "\n",
    "print(\"Reading Survey Results...\")\n",
    "survey_path = MAIN_PATH + 'Data/SurveyResults.xlsx'\n",
    "\n",
    "survey_df = pd.read_excel(survey_path, usecols=['ID', 'Start time', 'End time', 'date', 'Stress level'], dtype={'ID': str})\n",
    "survey_df['Stress level'].replace('na', np.nan, inplace=True)\n",
    "survey_df.dropna(inplace=True)\n",
    "\n",
    "survey_df['Start datetime'] =  pd.to_datetime(survey_df['date'].map(str) + ' ' + survey_df['Start time'].map(str))\n",
    "survey_df['End datetime'] =  pd.to_datetime(survey_df['date'].map(str) + ' ' + survey_df['End time'].map(str))\n",
    "survey_df.drop(['Start time', 'End time', 'date'], axis=1, inplace=True)\n",
    "\n",
    "# Convert SurveyResults.xlsx to GMT-00:00\n",
    "print(\"Processing Survey Results...\")\n",
    "daylight = pd.to_datetime(datetime(2020, 11, 1, 0, 0))\n",
    "\n",
    "survey_df1 = survey_df[survey_df['End datetime'] <= daylight].copy()\n",
    "survey_df1['Start datetime'] = survey_df1['Start datetime'].apply(lambda x: x + timedelta(hours=5))\n",
    "survey_df1['End datetime'] = survey_df1['End datetime'].apply(lambda x: x + timedelta(hours=5))\n",
    "\n",
    "survey_df2 = survey_df.loc[survey_df['End datetime'] > daylight].copy()\n",
    "survey_df2['Start datetime'] = survey_df2['Start datetime'].apply(lambda x: x + timedelta(hours=6))\n",
    "survey_df2['End datetime'] = survey_df2['End datetime'].apply(lambda x: x + timedelta(hours=6))\n",
    "\n",
    "survey_df = pd.concat([survey_df1, survey_df2], ignore_index=True)\n",
    "# survey_df = survey_df.loc[survey_df['Stress level'] != 1.0]\n",
    "\n",
    "survey_df.reset_index(drop=True, inplace=True)\n",
    "\n",
    "def parallel(file):\n",
    "    \n",
    "    id = file[-6:-4]\n",
    "    # Read Files\n",
    "    print(f'Processing {id}', flush = True)\n",
    "\n",
    "    df = pd.read_csv(os.path.join(PATH, f'{file}'), dtype={'id': str})\n",
    "    df['datetime'] = pd.to_datetime(df['datetime'].apply(lambda x: x * (10 ** 9)))\n",
    "    \n",
    "    new_df = pd.DataFrame(columns=['X', 'Y', 'Z', 'BVP', 'IBI', 'EDA', 'HR', 'TEMP', 'id', 'datetime', 'label'])\n",
    "\n",
    "    sdf = df.copy()\n",
    "    survey_sdf = survey_df[survey_df['ID'] == id].copy()\n",
    "\n",
    "    for _, survey_row in survey_sdf.iterrows():\n",
    "        ssdf = sdf[(sdf['datetime'] >= survey_row['Start datetime']) & (sdf['datetime'] <= survey_row['End datetime'])].copy()\n",
    "\n",
    "        if not ssdf.empty:\n",
    "            ssdf['label'] = np.repeat(survey_row['Stress level'], len(ssdf.index))\n",
    "            new_df = pd.concat([new_df, ssdf], ignore_index=True)\n",
    "        else:\n",
    "            print(f\"{survey_row['ID']} is missing label {survey_row['Stress level']} at {survey_row['Start datetime']} to {survey_row['End datetime']}\")\n",
    "    \n",
    "    new_df.to_csv(os.path.join(SAVE_PATH, f'{id}.csv'), index = None)\n",
    "\n",
    "print(\"Processing data...\")\n",
    "\n",
    "file_list = [file for file in os.listdir(PATH)]\n",
    "\n",
    "if __name__ == '__main__':\n",
    "    multiprocessing.freeze_support()\n",
    "    with multiprocessing.get_context('spawn').Pool(cpu_count) as pool:\n",
    "        pool.map(parallel, file_list)\n",
    "    pool.close()\n",
    "\n",
    "print(\"Successfully labelled data\")"
   ]
  },
  {
   "cell_type": "markdown",
   "id": "ACAvePNgh4UV",
   "metadata": {
    "id": "ACAvePNgh4UV"
   },
   "source": [
    "### e. Merging all participant labelled data"
   ]
  },
  {
   "cell_type": "code",
   "execution_count": null,
   "id": "rJyB7ie6FmAK",
   "metadata": {
    "id": "rJyB7ie6FmAK"
   },
   "outputs": [],
   "source": [
    "PATH = MAIN_PATH + 'Processed_data/'\n",
    "\n",
    "file_list = [file for file in os.listdir(PATH)]\n",
    "\n",
    "def combine(file):\n",
    "    print(f'Processing {file}', flush = True)\n",
    "    temp = pd.read_csv(os.path.join(PATH, file), dtype={'id': str}, index_col = None)\n",
    "    return temp\n",
    "\n",
    "if __name__ == '__main__':\n",
    "    multiprocessing.freeze_support()\n",
    "    with multiprocessing.get_context('spawn').Pool(8) as pool:\n",
    "        result = pool.map(combine, file_list)\n",
    "    pd.concat(result, axis = 0).to_csv(os.path.join(MAIN_PATH, \"data.csv\"), index = None)\n",
    "    pool.close()\n",
    "\n",
    "print(\"Successfully combined all participant data\")"
   ]
  },
  {
   "cell_type": "markdown",
   "id": "kUkPc9Kk2H7z",
   "metadata": {
    "id": "kUkPc9Kk2H7z"
   },
   "source": [
    "## 2. Loading the data for participant 5C"
   ]
  },
  {
   "cell_type": "code",
   "execution_count": 2,
   "id": "xggxQg7B2O8l",
   "metadata": {
    "id": "xggxQg7B2O8l"
   },
   "outputs": [],
   "source": [
    "df = None\n",
    "chunksize = 10 ** 5\n",
    "\n",
    "with pd.read_csv(\"5C.csv\", chunksize=chunksize, index_col = None, engine = 'python') as reader:\n",
    "    for chunk in reader:\n",
    "        df = pd.concat([df, chunk])"
   ]
  },
  {
   "cell_type": "code",
   "execution_count": 7,
   "id": "ZhYNMR3n5B2R",
   "metadata": {
    "id": "ZhYNMR3n5B2R"
   },
   "outputs": [],
   "source": [
    "df = df.drop(columns = 'id')"
   ]
  },
  {
   "cell_type": "markdown",
   "id": "7754f4e8",
   "metadata": {
    "id": "7754f4e8"
   },
   "source": [
    "## 3. Descriptive analysis"
   ]
  },
  {
   "cell_type": "code",
   "execution_count": 16,
   "id": "_YncoTSOiuep",
   "metadata": {
    "colab": {
     "base_uri": "https://localhost:8080/"
    },
    "id": "_YncoTSOiuep",
    "outputId": "cb141b95-1ebf-41dd-d41d-75a15453caa7"
   },
   "outputs": [
    {
     "name": "stdout",
     "output_type": "stream",
     "text": [
      "<class 'pandas.core.frame.DataFrame'>\n",
      "RangeIndex: 435053 entries, 0 to 435052\n",
      "Data columns (total 11 columns):\n",
      " #   Column    Non-Null Count   Dtype  \n",
      "---  ------    --------------   -----  \n",
      " 0   X         435053 non-null  float64\n",
      " 1   Y         435053 non-null  float64\n",
      " 2   Z         435053 non-null  float64\n",
      " 3   BVP       435053 non-null  float64\n",
      " 4   IBI       435053 non-null  float64\n",
      " 5   EDA       435053 non-null  float64\n",
      " 6   HR        435053 non-null  float64\n",
      " 7   TEMP      435053 non-null  float64\n",
      " 8   id        435053 non-null  object \n",
      " 9   datetime  435053 non-null  object \n",
      " 10  label     435052 non-null  float64\n",
      "dtypes: float64(9), object(2)\n",
      "memory usage: 36.5+ MB\n"
     ]
    }
   ],
   "source": [
    "df.info()"
   ]
  },
  {
   "cell_type": "code",
   "execution_count": 25,
   "id": "8q9Zsuu7TLfy",
   "metadata": {
    "colab": {
     "base_uri": "https://localhost:8080/"
    },
    "id": "8q9Zsuu7TLfy",
    "outputId": "1770692b-7e39-4169-ab5d-b221905f4f47"
   },
   "outputs": [
    {
     "name": "stdout",
     "output_type": "stream",
     "text": [
      "X           0\n",
      "Y           0\n",
      "Z           0\n",
      "BVP         0\n",
      "IBI         0\n",
      "EDA         0\n",
      "HR          0\n",
      "TEMP        0\n",
      "id          0\n",
      "datetime    0\n",
      "label       0\n",
      "dtype: int64\n"
     ]
    }
   ],
   "source": [
    "print(df.isna().sum())\n",
    "df = df.dropna()"
   ]
  },
  {
   "cell_type": "code",
   "execution_count": 26,
   "id": "AZneHiPw46yT",
   "metadata": {
    "colab": {
     "base_uri": "https://localhost:8080/",
     "height": 300
    },
    "id": "AZneHiPw46yT",
    "outputId": "8683e486-12a1-48cf-ab6c-05212d641115"
   },
   "outputs": [
    {
     "data": {
      "text/html": [
       "\n",
       "  <div id=\"df-3d28e7c0-a63b-4219-a931-d43f0680c995\">\n",
       "    <div class=\"colab-df-container\">\n",
       "      <div>\n",
       "<style scoped>\n",
       "    .dataframe tbody tr th:only-of-type {\n",
       "        vertical-align: middle;\n",
       "    }\n",
       "\n",
       "    .dataframe tbody tr th {\n",
       "        vertical-align: top;\n",
       "    }\n",
       "\n",
       "    .dataframe thead th {\n",
       "        text-align: right;\n",
       "    }\n",
       "</style>\n",
       "<table border=\"1\" class=\"dataframe\">\n",
       "  <thead>\n",
       "    <tr style=\"text-align: right;\">\n",
       "      <th></th>\n",
       "      <th>X</th>\n",
       "      <th>Y</th>\n",
       "      <th>Z</th>\n",
       "      <th>BVP</th>\n",
       "      <th>IBI</th>\n",
       "      <th>EDA</th>\n",
       "      <th>HR</th>\n",
       "      <th>TEMP</th>\n",
       "    </tr>\n",
       "  </thead>\n",
       "  <tbody>\n",
       "    <tr>\n",
       "      <th>count</th>\n",
       "      <td>1732609.000</td>\n",
       "      <td>1732609.000</td>\n",
       "      <td>1732609.000</td>\n",
       "      <td>1732609.000</td>\n",
       "      <td>1732609.000</td>\n",
       "      <td>1732609.000</td>\n",
       "      <td>1732609.000</td>\n",
       "      <td>1732609.000</td>\n",
       "    </tr>\n",
       "    <tr>\n",
       "      <th>mean</th>\n",
       "      <td>-47.226</td>\n",
       "      <td>11.399</td>\n",
       "      <td>12.112</td>\n",
       "      <td>0.012</td>\n",
       "      <td>0.710</td>\n",
       "      <td>1.085</td>\n",
       "      <td>94.781</td>\n",
       "      <td>28.325</td>\n",
       "    </tr>\n",
       "    <tr>\n",
       "      <th>std</th>\n",
       "      <td>23.469</td>\n",
       "      <td>23.738</td>\n",
       "      <td>33.342</td>\n",
       "      <td>133.963</td>\n",
       "      <td>0.204</td>\n",
       "      <td>2.741</td>\n",
       "      <td>15.003</td>\n",
       "      <td>1.780</td>\n",
       "    </tr>\n",
       "    <tr>\n",
       "      <th>min</th>\n",
       "      <td>-128.000</td>\n",
       "      <td>-128.000</td>\n",
       "      <td>-128.000</td>\n",
       "      <td>-2429.550</td>\n",
       "      <td>0.344</td>\n",
       "      <td>0.000</td>\n",
       "      <td>56.050</td>\n",
       "      <td>26.710</td>\n",
       "    </tr>\n",
       "    <tr>\n",
       "      <th>25%</th>\n",
       "      <td>-62.000</td>\n",
       "      <td>4.000</td>\n",
       "      <td>-9.000</td>\n",
       "      <td>-22.530</td>\n",
       "      <td>0.547</td>\n",
       "      <td>0.137</td>\n",
       "      <td>80.480</td>\n",
       "      <td>27.110</td>\n",
       "    </tr>\n",
       "    <tr>\n",
       "      <th>50%</th>\n",
       "      <td>-62.000</td>\n",
       "      <td>21.000</td>\n",
       "      <td>-9.000</td>\n",
       "      <td>0.500</td>\n",
       "      <td>0.719</td>\n",
       "      <td>0.350</td>\n",
       "      <td>106.230</td>\n",
       "      <td>27.330</td>\n",
       "    </tr>\n",
       "    <tr>\n",
       "      <th>75%</th>\n",
       "      <td>-33.000</td>\n",
       "      <td>21.000</td>\n",
       "      <td>33.000</td>\n",
       "      <td>23.740</td>\n",
       "      <td>0.844</td>\n",
       "      <td>1.348</td>\n",
       "      <td>106.230</td>\n",
       "      <td>28.990</td>\n",
       "    </tr>\n",
       "    <tr>\n",
       "      <th>max</th>\n",
       "      <td>127.000</td>\n",
       "      <td>127.000</td>\n",
       "      <td>127.000</td>\n",
       "      <td>2547.600</td>\n",
       "      <td>1.328</td>\n",
       "      <td>22.777</td>\n",
       "      <td>138.370</td>\n",
       "      <td>36.590</td>\n",
       "    </tr>\n",
       "  </tbody>\n",
       "</table>\n",
       "</div>\n",
       "      <button class=\"colab-df-convert\" onclick=\"convertToInteractive('df-3d28e7c0-a63b-4219-a931-d43f0680c995')\"\n",
       "              title=\"Convert this dataframe to an interactive table.\"\n",
       "              style=\"display:none;\">\n",
       "        \n",
       "  <svg xmlns=\"http://www.w3.org/2000/svg\" height=\"24px\"viewBox=\"0 0 24 24\"\n",
       "       width=\"24px\">\n",
       "    <path d=\"M0 0h24v24H0V0z\" fill=\"none\"/>\n",
       "    <path d=\"M18.56 5.44l.94 2.06.94-2.06 2.06-.94-2.06-.94-.94-2.06-.94 2.06-2.06.94zm-11 1L8.5 8.5l.94-2.06 2.06-.94-2.06-.94L8.5 2.5l-.94 2.06-2.06.94zm10 10l.94 2.06.94-2.06 2.06-.94-2.06-.94-.94-2.06-.94 2.06-2.06.94z\"/><path d=\"M17.41 7.96l-1.37-1.37c-.4-.4-.92-.59-1.43-.59-.52 0-1.04.2-1.43.59L10.3 9.45l-7.72 7.72c-.78.78-.78 2.05 0 2.83L4 21.41c.39.39.9.59 1.41.59.51 0 1.02-.2 1.41-.59l7.78-7.78 2.81-2.81c.8-.78.8-2.07 0-2.86zM5.41 20L4 18.59l7.72-7.72 1.47 1.35L5.41 20z\"/>\n",
       "  </svg>\n",
       "      </button>\n",
       "      \n",
       "  <style>\n",
       "    .colab-df-container {\n",
       "      display:flex;\n",
       "      flex-wrap:wrap;\n",
       "      gap: 12px;\n",
       "    }\n",
       "\n",
       "    .colab-df-convert {\n",
       "      background-color: #E8F0FE;\n",
       "      border: none;\n",
       "      border-radius: 50%;\n",
       "      cursor: pointer;\n",
       "      display: none;\n",
       "      fill: #1967D2;\n",
       "      height: 32px;\n",
       "      padding: 0 0 0 0;\n",
       "      width: 32px;\n",
       "    }\n",
       "\n",
       "    .colab-df-convert:hover {\n",
       "      background-color: #E2EBFA;\n",
       "      box-shadow: 0px 1px 2px rgba(60, 64, 67, 0.3), 0px 1px 3px 1px rgba(60, 64, 67, 0.15);\n",
       "      fill: #174EA6;\n",
       "    }\n",
       "\n",
       "    [theme=dark] .colab-df-convert {\n",
       "      background-color: #3B4455;\n",
       "      fill: #D2E3FC;\n",
       "    }\n",
       "\n",
       "    [theme=dark] .colab-df-convert:hover {\n",
       "      background-color: #434B5C;\n",
       "      box-shadow: 0px 1px 3px 1px rgba(0, 0, 0, 0.15);\n",
       "      filter: drop-shadow(0px 1px 2px rgba(0, 0, 0, 0.3));\n",
       "      fill: #FFFFFF;\n",
       "    }\n",
       "  </style>\n",
       "\n",
       "      <script>\n",
       "        const buttonEl =\n",
       "          document.querySelector('#df-3d28e7c0-a63b-4219-a931-d43f0680c995 button.colab-df-convert');\n",
       "        buttonEl.style.display =\n",
       "          google.colab.kernel.accessAllowed ? 'block' : 'none';\n",
       "\n",
       "        async function convertToInteractive(key) {\n",
       "          const element = document.querySelector('#df-3d28e7c0-a63b-4219-a931-d43f0680c995');\n",
       "          const dataTable =\n",
       "            await google.colab.kernel.invokeFunction('convertToInteractive',\n",
       "                                                     [key], {});\n",
       "          if (!dataTable) return;\n",
       "\n",
       "          const docLinkHtml = 'Like what you see? Visit the ' +\n",
       "            '<a target=\"_blank\" href=https://colab.research.google.com/notebooks/data_table.ipynb>data table notebook</a>'\n",
       "            + ' to learn more about interactive tables.';\n",
       "          element.innerHTML = '';\n",
       "          dataTable['output_type'] = 'display_data';\n",
       "          await google.colab.output.renderOutput(dataTable, element);\n",
       "          const docLink = document.createElement('div');\n",
       "          docLink.innerHTML = docLinkHtml;\n",
       "          element.appendChild(docLink);\n",
       "        }\n",
       "      </script>\n",
       "    </div>\n",
       "  </div>\n",
       "  "
      ],
      "text/plain": [
       "                X           Y           Z         BVP         IBI         EDA  \\\n",
       "count 1732609.000 1732609.000 1732609.000 1732609.000 1732609.000 1732609.000   \n",
       "mean      -47.226      11.399      12.112       0.012       0.710       1.085   \n",
       "std        23.469      23.738      33.342     133.963       0.204       2.741   \n",
       "min      -128.000    -128.000    -128.000   -2429.550       0.344       0.000   \n",
       "25%       -62.000       4.000      -9.000     -22.530       0.547       0.137   \n",
       "50%       -62.000      21.000      -9.000       0.500       0.719       0.350   \n",
       "75%       -33.000      21.000      33.000      23.740       0.844       1.348   \n",
       "max       127.000     127.000     127.000    2547.600       1.328      22.777   \n",
       "\n",
       "               HR        TEMP  \n",
       "count 1732609.000 1732609.000  \n",
       "mean       94.781      28.325  \n",
       "std        15.003       1.780  \n",
       "min        56.050      26.710  \n",
       "25%        80.480      27.110  \n",
       "50%       106.230      27.330  \n",
       "75%       106.230      28.990  \n",
       "max       138.370      36.590  "
      ]
     },
     "execution_count": 26,
     "metadata": {},
     "output_type": "execute_result"
    }
   ],
   "source": [
    "df.drop(columns = 'label').describe()"
   ]
  },
  {
   "cell_type": "code",
   "execution_count": 24,
   "id": "DbZ3WRor7w94",
   "metadata": {
    "colab": {
     "base_uri": "https://localhost:8080/",
     "height": 507
    },
    "id": "DbZ3WRor7w94",
    "outputId": "87d6ac58-059c-40e1-d272-8de2e8ce5d5e"
   },
   "outputs": [
    {
     "name": "stderr",
     "output_type": "stream",
     "text": [
      "<ipython-input-24-836e663293c2>:1: FutureWarning: The default value of numeric_only in DataFrame.corr is deprecated. In a future version, it will default to False. Select only valid columns or specify the value of numeric_only to silence this warning.\n",
      "  sns.heatmap(df.drop(columns = ['label', 'datetime']).corr(), annot = True)\n"
     ]
    },
    {
     "data": {
      "text/plain": [
       "<Axes: >"
      ]
     },
     "execution_count": 24,
     "metadata": {},
     "output_type": "execute_result"
    },
    {
     "data": {
      "image/png": "[encoded data removed]",
      "text/plain": [
       "<Figure size 640x480 with 2 Axes>"
      ]
     },
     "metadata": {},
     "output_type": "display_data"
    }
   ],
   "source": [
    "sns.heatmap(df.drop(columns = ['label', 'datetime']).corr(), annot = True)"
   ]
  },
  {
   "cell_type": "code",
   "execution_count": 23,
   "id": "eKHQ54Ae-AE3",
   "metadata": {
    "colab": {
     "base_uri": "https://localhost:8080/",
     "height": 466
    },
    "id": "eKHQ54Ae-AE3",
    "outputId": "5fc2eaf4-33df-4205-c5fa-a43d404d73b7"
   },
   "outputs": [
    {
     "data": {
      "text/plain": [
       "<Axes: xlabel='label', ylabel='count'>"
      ]
     },
     "execution_count": 23,
     "metadata": {},
     "output_type": "execute_result"
    },
    {
     "data": {
      "image/png": "[encoded data removed]",
      "text/plain": [
       "<Figure size 640x480 with 1 Axes>"
      ]
     },
     "metadata": {},
     "output_type": "display_data"
    }
   ],
   "source": [
    "sns.countplot(data = df, x = 'label')"
   ]
  },
  {
   "cell_type": "markdown",
   "id": "425bb723",
   "metadata": {
    "id": "425bb723"
   },
   "source": [
    "## 4. Visual Analytics"
   ]
  },
  {
   "cell_type": "markdown",
   "id": "zf1myI2xXXjv",
   "metadata": {
    "id": "zf1myI2xXXjv"
   },
   "source": [
    "Scaling values of data for better readability"
   ]
  },
  {
   "cell_type": "code",
   "execution_count": null,
   "id": "1IobMl3YXu4O",
   "metadata": {
    "id": "1IobMl3YXu4O",
    "outputId": "19c9b1d8-2c77-4718-fd90-bdddb1dab057"
   },
   "outputs": [
    {
     "data": {
      "text/html": [
       "<div>\n",
       "<style scoped>\n",
       "    .dataframe tbody tr th:only-of-type {\n",
       "        vertical-align: middle;\n",
       "    }\n",
       "\n",
       "    .dataframe tbody tr th {\n",
       "        vertical-align: top;\n",
       "    }\n",
       "\n",
       "    .dataframe thead th {\n",
       "        text-align: right;\n",
       "    }\n",
       "</style>\n",
       "<table border=\"1\" class=\"dataframe\">\n",
       "  <thead>\n",
       "    <tr style=\"text-align: right;\">\n",
       "      <th></th>\n",
       "      <th>X</th>\n",
       "      <th>Y</th>\n",
       "      <th>Z</th>\n",
       "      <th>BVP</th>\n",
       "      <th>IBI</th>\n",
       "      <th>EDA</th>\n",
       "      <th>HR</th>\n",
       "      <th>TEMP</th>\n",
       "      <th>label</th>\n",
       "      <th>time</th>\n",
       "      <th>date</th>\n",
       "    </tr>\n",
       "  </thead>\n",
       "  <tbody>\n",
       "    <tr>\n",
       "      <th>0</th>\n",
       "      <td>0.416</td>\n",
       "      <td>0.333</td>\n",
       "      <td>1.000</td>\n",
       "      <td>0.483</td>\n",
       "      <td>0.429</td>\n",
       "      <td>0.963</td>\n",
       "      <td>0.323</td>\n",
       "      <td>0.990</td>\n",
       "      <td>1.000</td>\n",
       "      <td>22:31:00</td>\n",
       "      <td>2020-04-14</td>\n",
       "    </tr>\n",
       "    <tr>\n",
       "      <th>1</th>\n",
       "      <td>0.416</td>\n",
       "      <td>0.333</td>\n",
       "      <td>1.000</td>\n",
       "      <td>0.494</td>\n",
       "      <td>0.429</td>\n",
       "      <td>0.963</td>\n",
       "      <td>0.323</td>\n",
       "      <td>0.990</td>\n",
       "      <td>1.000</td>\n",
       "      <td>22:31:00.031249</td>\n",
       "      <td>2020-04-14</td>\n",
       "    </tr>\n",
       "    <tr>\n",
       "      <th>2</th>\n",
       "      <td>0.416</td>\n",
       "      <td>0.333</td>\n",
       "      <td>1.000</td>\n",
       "      <td>0.502</td>\n",
       "      <td>0.429</td>\n",
       "      <td>0.963</td>\n",
       "      <td>0.323</td>\n",
       "      <td>0.990</td>\n",
       "      <td>1.000</td>\n",
       "      <td>22:31:00.062500</td>\n",
       "      <td>2020-04-14</td>\n",
       "    </tr>\n",
       "    <tr>\n",
       "      <th>3</th>\n",
       "      <td>0.416</td>\n",
       "      <td>0.333</td>\n",
       "      <td>1.000</td>\n",
       "      <td>0.506</td>\n",
       "      <td>0.429</td>\n",
       "      <td>0.963</td>\n",
       "      <td>0.323</td>\n",
       "      <td>0.990</td>\n",
       "      <td>1.000</td>\n",
       "      <td>22:31:00.093750</td>\n",
       "      <td>2020-04-14</td>\n",
       "    </tr>\n",
       "    <tr>\n",
       "      <th>4</th>\n",
       "      <td>0.416</td>\n",
       "      <td>0.333</td>\n",
       "      <td>1.000</td>\n",
       "      <td>0.506</td>\n",
       "      <td>0.429</td>\n",
       "      <td>0.963</td>\n",
       "      <td>0.323</td>\n",
       "      <td>0.990</td>\n",
       "      <td>1.000</td>\n",
       "      <td>22:31:00.124999</td>\n",
       "      <td>2020-04-14</td>\n",
       "    </tr>\n",
       "  </tbody>\n",
       "</table>\n",
       "</div>"
      ],
      "text/plain": [
       "      X     Y     Z   BVP   IBI   EDA    HR  TEMP  label             time  \\\n",
       "0 0.416 0.333 1.000 0.483 0.429 0.963 0.323 0.990  1.000         22:31:00   \n",
       "1 0.416 0.333 1.000 0.494 0.429 0.963 0.323 0.990  1.000  22:31:00.031249   \n",
       "2 0.416 0.333 1.000 0.502 0.429 0.963 0.323 0.990  1.000  22:31:00.062500   \n",
       "3 0.416 0.333 1.000 0.506 0.429 0.963 0.323 0.990  1.000  22:31:00.093750   \n",
       "4 0.416 0.333 1.000 0.506 0.429 0.963 0.323 0.990  1.000  22:31:00.124999   \n",
       "\n",
       "         date  \n",
       "0  2020-04-14  \n",
       "1  2020-04-14  \n",
       "2  2020-04-14  \n",
       "3  2020-04-14  \n",
       "4  2020-04-14  "
      ]
     },
     "execution_count": 9,
     "metadata": {},
     "output_type": "execute_result"
    }
   ],
   "source": [
    "scaled_df = df.copy()\n",
    "\n",
    "scaled_df['datetime'] = pd.to_datetime(scaled_df['datetime'])\n",
    "scaled_df['time'] = [x.time() for x in scaled_df['datetime']]\n",
    "scaled_df['date'] = [x.date() for x in scaled_df['datetime']]\n",
    "scaled_df = scaled_df.drop(columns = 'datetime')\n",
    "\n",
    "col_names = scaled_df.columns[:-3]\n",
    "\n",
    "scaled_df[col_names] = MinMaxScaler().fit_transform(scaled_df[col_names])\n",
    "\n",
    "scaled_df.head()"
   ]
  },
  {
   "cell_type": "code",
   "execution_count": null,
   "id": "333720bc",
   "metadata": {
    "id": "333720bc",
    "outputId": "e1d6c38e-c8b6-46b6-d1a6-015958d06d93"
   },
   "outputs": [
    {
     "name": "stdout",
     "output_type": "stream",
     "text": [
      "Dates used for data visualization:\n",
      "[datetime.date(2020, 6, 23) datetime.date(2020, 6, 24)\n",
      " datetime.date(2020, 6, 25)]\n"
     ]
    },
    {
     "data": {
      "image/png": "[encoded data removed]",
      "text/plain": [
       "<Figure size 640x480 with 1 Axes>"
      ]
     },
     "metadata": {},
     "output_type": "display_data"
    }
   ],
   "source": [
    "sns.countplot(data = scaled_df, x = 'date')\n",
    "\n",
    "dates = scaled_df['date'].unique()[2:]\n",
    "print(\"Dates used for data visualization:\")\n",
    "print(dates)"
   ]
  },
  {
   "cell_type": "markdown",
   "id": "6dc7d74e",
   "metadata": {
    "id": "6dc7d74e"
   },
   "source": [
    "Extracting rows containing the required dates for plotting data"
   ]
  },
  {
   "cell_type": "code",
   "execution_count": null,
   "id": "df6b66d6",
   "metadata": {
    "id": "df6b66d6",
    "outputId": "ec385148-b00d-4e4a-fe1d-c30df4853e1c"
   },
   "outputs": [
    {
     "data": {
      "image/png": "[encoded data removed]",
      "text/plain": [
       "<Figure size 640x480 with 1 Axes>"
      ]
     },
     "metadata": {},
     "output_type": "display_data"
    }
   ],
   "source": [
    "temp = dict()\n",
    "for date in dates:\n",
    "    temp[str(date)] = scaled_df.loc[scaled_df['date'] == date, ['HR', 'time']]\n",
    "\n",
    "for key in temp:\n",
    "    sns.lineplot(data = temp[key], label = f'{key}')"
   ]
  },
  {
   "cell_type": "markdown",
   "id": "3c0fe187",
   "metadata": {
    "id": "3c0fe187"
   },
   "source": [
    "## 5. Machine Learning Model"
   ]
  },
  {
   "cell_type": "markdown",
   "id": "e4209c91",
   "metadata": {
    "id": "e4209c91"
   },
   "source": [
    "Function to split the data into train/test and converting it into a Keras sequence\n",
    "Can be re-used to train the same model on all participants"
   ]
  },
  {
   "cell_type": "code",
   "execution_count": 3,
   "id": "c00d7f2b",
   "metadata": {
    "id": "c00d7f2b"
   },
   "outputs": [],
   "source": [
    "def data_to_keras(df, scaled = True, lookback = 7):\n",
    "    data = df.copy()\n",
    "    data = data.drop(columns = 'id')\n",
    "    data['datetime'] = pd.to_datetime(data['datetime'])\n",
    "    data = data.set_index('datetime')\n",
    "    \n",
    "    col_names = data.columns[: -1]\n",
    "    if scaled:\n",
    "        data[col_names] = MinMaxScaler().fit_transform(data[col_names])\n",
    "    \n",
    "    size = int(TRAIN_TEST_SPLIT * len(data))\n",
    "    train = data[: size]\n",
    "    test = data[size: ]\n",
    "    \n",
    "    train = TimeseriesGenerator(train.iloc[:, :-1], train.iloc[:, -1], length = lookback, batch_size = 32)\n",
    "    test = TimeseriesGenerator(test.iloc[:, :-1], test.iloc[:, -1], length = lookback, batch_size = 32)\n",
    "    \n",
    "    return train, test"
   ]
  },
  {
   "cell_type": "code",
   "execution_count": 4,
   "id": "26756a43",
   "metadata": {
    "colab": {
     "base_uri": "https://localhost:8080/",
     "height": 484
    },
    "id": "26756a43",
    "outputId": "fb77e2f5-2fb5-4830-c560-6c78109f741c"
   },
   "outputs": [],
   "source": [
    "train, test = data_to_keras(df)"
   ]
  },
  {
   "cell_type": "code",
   "execution_count": null,
   "id": "cFTr22iEuCPE",
   "metadata": {
    "colab": {
     "base_uri": "https://localhost:8080/",
     "height": 400
    },
    "id": "cFTr22iEuCPE",
    "outputId": "d8d0143b-93e6-4336-e5e7-10d7c512ed98"
   },
   "outputs": [
    {
     "name": "stderr",
     "output_type": "stream",
     "text": [
      "C:\\Users\\Diya\\AppData\\Local\\Temp\\ipykernel_11616\\2361699427.py:11: DeprecationWarning: KerasRegressor is deprecated, use Sci-Keras (https://github.com/adriangb/scikeras) instead. See https://www.adriangb.com/scikeras/stable/migration.html for help migrating.\n",
      "  model = KerasRegressor(build_fn=create_model, verbose=0)\n"
     ]
    },
    {
     "name": "stdout",
     "output_type": "stream",
     "text": [
      "ERROR! Session/line number was not unique in database. History logging moved to new session 19\n"
     ]
    }
   ],
   "source": [
    "# Define function to create LSTM model with given hyperparameters\n",
    "def create_model(dropout_rate, units):\n",
    "    model = Sequential()\n",
    "    model.add(LSTM(units, input_shape=(7, 8)))\n",
    "    model.add(Dropout(dropout_rate))\n",
    "    model.add(Dense(1))\n",
    "    model.compile(loss='mse', optimizer='adam')\n",
    "    return model\n",
    "\n",
    "# Create KerasRegressor wrapper function with create_model function\n",
    "model = KerasRegressor(build_fn=create_model, verbose=0)\n",
    "\n",
    "# Define hyperparameters to search over\n",
    "param_grid = {'dropout_rate': [0.1, 0.2, 0.3], 'units': [32, 64, 128]}\n",
    "\n",
    "# Define randomized search over hyperparameters\n",
    "search = RandomizedSearchCV(estimator=model, param_distributions=param_grid, n_iter=9, cv=5)\n",
    "\n",
    "# Fit search on train generator and validate on test generator\n",
    "search.fit(train, validation_data=test, epochs=10)"
   ]
  },
  {
   "cell_type": "code",
   "execution_count": null,
   "id": "oQSYAxwMwp2L",
   "metadata": {
    "id": "oQSYAxwMwp2L"
   },
   "outputs": [],
   "source": [
    "print(search.best_params_)\n",
    "print(search.best_score_)"
   ]
  },
  {
   "cell_type": "code",
   "execution_count": 5,
   "id": "326bcbd5",
   "metadata": {
    "colab": {
     "base_uri": "https://localhost:8080/"
    },
    "id": "326bcbd5",
    "outputId": "457fafb7-3fcb-4e05-d270-f0235d92542c"
   },
   "outputs": [
    {
     "name": "stdout",
     "output_type": "stream",
     "text": [
      "Model: \"sequential\"\n",
      "_________________________________________________________________\n",
      " Layer (type)                Output Shape              Param #   \n",
      "=================================================================\n",
      " lstm (LSTM)                 (None, 64)                18688     \n",
      "                                                                 \n",
      " dropout (Dropout)           (None, 64)                0         \n",
      "                                                                 \n",
      " dense (Dense)               (None, 1)                 65        \n",
      "                                                                 \n",
      "=================================================================\n",
      "Total params: 18,753\n",
      "Trainable params: 18,753\n",
      "Non-trainable params: 0\n",
      "_________________________________________________________________\n"
     ]
    }
   ],
   "source": [
    "model = Sequential()\n",
    "model.add(LSTM(64, input_shape=(7, 8)))\n",
    "model.add(Dropout(0.2))\n",
    "model.add(Dense(1, activation='relu'))\n",
    "\n",
    "model.summary()\n",
    "\n",
    "model.compile(optimizer = keras.optimizers.Adam(learning_rate=0.001),\n",
    "            loss = keras.losses.MeanSquaredError(),\n",
    "            metrics=['mse'])"
   ]
  },
  {
   "cell_type": "code",
   "execution_count": 1,
   "id": "KldNBbO9zhsF",
   "metadata": {
    "colab": {
     "base_uri": "https://localhost:8080/",
     "height": 200
    },
    "id": "KldNBbO9zhsF",
    "outputId": "0d415912-0344-4d5c-db5e-26f6bd7f1e98"
   },
   "outputs": [
    {
     "ename": "NameError",
     "evalue": "ignored",
     "output_type": "error",
     "traceback": [
      "\u001b[0;31m---------------------------------------------------------------------------\u001b[0m",
      "\u001b[0;31mNameError\u001b[0m                                 Traceback (most recent call last)",
      "\u001b[0;32m<ipython-input-1-f37737cf06e9>\u001b[0m in \u001b[0;36m<cell line: 6>\u001b[0;34m()\u001b[0m\n\u001b[1;32m      4\u001b[0m \u001b[0;34m\u001b[0m\u001b[0m\n\u001b[1;32m      5\u001b[0m \u001b[0;31m# train the model with early stopping\u001b[0m\u001b[0;34m\u001b[0m\u001b[0;34m\u001b[0m\u001b[0m\n\u001b[0;32m----> 6\u001b[0;31m \u001b[0mhistory\u001b[0m \u001b[0;34m=\u001b[0m \u001b[0mmodel\u001b[0m\u001b[0;34m.\u001b[0m\u001b[0mfit\u001b[0m\u001b[0;34m(\u001b[0m\u001b[0mtrain\u001b[0m\u001b[0;34m,\u001b[0m \u001b[0mepochs\u001b[0m\u001b[0;34m=\u001b[0m\u001b[0;36m20\u001b[0m\u001b[0;34m,\u001b[0m \u001b[0mvalidation_data\u001b[0m\u001b[0;34m=\u001b[0m\u001b[0mtest\u001b[0m\u001b[0;34m,\u001b[0m \u001b[0mcallbacks\u001b[0m\u001b[0;34m=\u001b[0m\u001b[0;34m[\u001b[0m\u001b[0mearly_stopping\u001b[0m\u001b[0;34m]\u001b[0m\u001b[0;34m)\u001b[0m\u001b[0;34m\u001b[0m\u001b[0;34m\u001b[0m\u001b[0m\n\u001b[0m",
      "\u001b[0;31mNameError\u001b[0m: name 'model' is not defined"
     ]
    }
   ],
   "source": [
    "from keras.callbacks import EarlyStopping\n",
    "\n",
    "early_stopping = EarlyStopping(monitor='val_loss', patience=5, verbose=1, mode='auto')\n",
    "\n",
    "# train the model with early stopping\n",
    "history = model.fit(train, epochs=20, validation_data=test, callbacks=[early_stopping])"
   ]
  },
  {
   "cell_type": "code",
   "execution_count": null,
   "id": "KnEKdeY00V15",
   "metadata": {
    "id": "KnEKdeY00V15"
   },
   "outputs": [],
   "source": [
    "# plot the training and validation loss curves\n",
    "plt.plot(history.history['loss'], label='train')\n",
    "plt.plot(history.history['val_loss'], label='test')\n",
    "plt.legend()\n",
    "plt.show()"
   ]
  }
 ],
 "metadata": {
  "accelerator": "GPU",
  "colab": {
   "collapsed_sections": [
    "17cfe7a0",
    "a77d62a6",
    "b0c3a9a3",
    "a7573811",
    "4f13db76",
    "425bb723"
   ],
   "provenance": []
  },
  "gpuClass": "standard",
  "kernelspec": {
   "display_name": "Python 3 (ipykernel)",
   "language": "python",
   "name": "python3"
  },
  "language_info": {
   "codemirror_mode": {
    "name": "ipython",
    "version": 3
   },
   "file_extension": ".py",
   "mimetype": "text/x-python",
   "name": "python",
   "nbconvert_exporter": "python",
   "pygments_lexer": "ipython3",
   "version": "3.9.13"
  }
 },
 "nbformat": 4,
 "nbformat_minor": 5
}
